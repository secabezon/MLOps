{
 "cells": [
  {
   "cell_type": "code",
   "execution_count": 3,
   "id": "fbb34b36",
   "metadata": {},
   "outputs": [],
   "source": [
    "import pandas as pd"
   ]
  },
  {
   "cell_type": "code",
   "execution_count": 10,
   "id": "978d9d72",
   "metadata": {},
   "outputs": [
    {
     "name": "stderr",
     "output_type": "stream",
     "text": [
      "\"ls\" no se reconoce como un comando interno o externo,\n",
      "programa o archivo por lotes ejecutable.\n"
     ]
    }
   ],
   "source": [
    "!ls\n"
   ]
  },
  {
   "cell_type": "code",
   "execution_count": 20,
   "id": "17f57305",
   "metadata": {},
   "outputs": [],
   "source": [
    "df = pd.read_csv('../data/raw/german_credit_modified.csv')\n"
   ]
  },
  {
   "cell_type": "code",
   "execution_count": 25,
   "id": "a28a3466",
   "metadata": {},
   "outputs": [
    {
     "name": "stdout",
     "output_type": "stream",
     "text": [
      "<class 'pandas.core.frame.DataFrame'>\n",
      "RangeIndex: 1020 entries, 0 to 1019\n",
      "Data columns (total 22 columns):\n",
      " #   Column          Non-Null Count  Dtype \n",
      "---  ------          --------------  ----- \n",
      " 0   laufkont        1005 non-null   object\n",
      " 1   laufzeit        1010 non-null   object\n",
      " 2   moral           1003 non-null   object\n",
      " 3   verw            1004 non-null   object\n",
      " 4   hoehe           1012 non-null   object\n",
      " 5   sparkont        1008 non-null   object\n",
      " 6   beszeit         1003 non-null   object\n",
      " 7   rate            1011 non-null   object\n",
      " 8   famges          1013 non-null   object\n",
      " 9   buerge          1007 non-null   object\n",
      " 10  wohnzeit        1005 non-null   object\n",
      " 11  verm            1009 non-null   object\n",
      " 12  alter           1009 non-null   object\n",
      " 13  weitkred        1010 non-null   object\n",
      " 14  wohn            1015 non-null   object\n",
      " 15  bishkred        1008 non-null   object\n",
      " 16  beruf           1008 non-null   object\n",
      " 17  pers            1012 non-null   object\n",
      " 18  telef           1012 non-null   object\n",
      " 19  gastarb         1005 non-null   object\n",
      " 20  kredit          1004 non-null   object\n",
      " 21  mixed_type_col  928 non-null    object\n",
      "dtypes: object(22)\n",
      "memory usage: 175.4+ KB\n"
     ]
    }
   ],
   "source": [
    "df.info()"
   ]
  }
 ],
 "metadata": {
  "kernelspec": {
   "display_name": "venv",
   "language": "python",
   "name": "python3"
  },
  "language_info": {
   "codemirror_mode": {
    "name": "ipython",
    "version": 3
   },
   "file_extension": ".py",
   "mimetype": "text/x-python",
   "name": "python",
   "nbconvert_exporter": "python",
   "pygments_lexer": "ipython3",
   "version": "3.10.11"
  }
 },
 "nbformat": 4,
 "nbformat_minor": 5
}
